{
 "cells": [
  {
   "cell_type": "code",
   "execution_count": 1,
   "metadata": {},
   "outputs": [],
   "source": [
    "import nltk\n",
    "# nltk.download()\n",
    "from nltk.stem import WordNetLemmatizer\n",
    "from nltk.tokenize import sent_tokenize, word_tokenize\n",
    "from nltk.corpus import stopwords\n",
    "import string  "
   ]
  },
  {
   "cell_type": "code",
   "execution_count": 2,
   "metadata": {},
   "outputs": [
    {
     "name": "stdout",
     "output_type": "stream",
     "text": [
      "['i', 'me', 'my', 'myself', 'we', 'our', 'ours', 'ourselves', 'you', \"you're\", \"you've\", \"you'll\", \"you'd\", 'your', 'yours', 'yourself', 'yourselves', 'he', 'him', 'his', 'himself', 'she', \"she's\", 'her', 'hers', 'herself', 'it', \"it's\", 'its', 'itself', 'they', 'them', 'their', 'theirs', 'themselves', 'what', 'which', 'who', 'whom', 'this', 'that', \"that'll\", 'these', 'those', 'am', 'is', 'are', 'was', 'were', 'be', 'been', 'being', 'have', 'has', 'had', 'having', 'do', 'does', 'did', 'doing', 'a', 'an', 'the', 'and', 'but', 'if', 'or', 'because', 'as', 'until', 'while', 'of', 'at', 'by', 'for', 'with', 'about', 'against', 'between', 'into', 'through', 'during', 'before', 'after', 'above', 'below', 'to', 'from', 'up', 'down', 'in', 'out', 'on', 'off', 'over', 'under', 'again', 'further', 'then', 'once', 'here', 'there', 'when', 'where', 'why', 'how', 'all', 'any', 'both', 'each', 'few', 'more', 'most', 'other', 'some', 'such', 'no', 'nor', 'not', 'only', 'own', 'same', 'so', 'than', 'too', 'very', 's', 't', 'can', 'will', 'just', 'don', \"don't\", 'should', \"should've\", 'now', 'd', 'll', 'm', 'o', 're', 've', 'y', 'ain', 'aren', \"aren't\", 'couldn', \"couldn't\", 'didn', \"didn't\", 'doesn', \"doesn't\", 'hadn', \"hadn't\", 'hasn', \"hasn't\", 'haven', \"haven't\", 'isn', \"isn't\", 'ma', 'mightn', \"mightn't\", 'mustn', \"mustn't\", 'needn', \"needn't\", 'shan', \"shan't\", 'shouldn', \"shouldn't\", 'wasn', \"wasn't\", 'weren', \"weren't\", 'won', \"won't\", 'wouldn', \"wouldn't\", '!', '\"', '#', '$', '%', '&', \"'\", '(', ')', '*', '+', ',', '-', '.', '/', ':', ';', '<', '=', '>', '?', '@', '[', '\\\\', ']', '^', '_', '`', '{', '|', '}', '~']\n"
     ]
    }
   ],
   "source": [
    "pun = string.punctuation \n",
    "stopwords = stopwords.words(\"english\")\n",
    "stopwords += list(pun)  # Creating a list of words and punctuations that have less relevance\n",
    "print(stopwords)"
   ]
  },
  {
   "cell_type": "code",
   "execution_count": 36,
   "metadata": {},
   "outputs": [],
   "source": [
    "f = open(\"Sample Texts/alice_correct.txt\",'r')\n",
    "text = f.read()\n",
    "f.close()\n",
    "\n",
    "def shortenText(text,chNo) :\n",
    "    tokens = word_tokenize(text)\n",
    "    newTokens = []\n",
    "    i = 0\n",
    "    while tokens[i+1] !=  chNo :\n",
    "        newTokens.append(tokens[i])\n",
    "        i += 1\n",
    "    return ' '.join(newTokens)\n",
    "\n",
    "ch2 = shortenText(text,'II')"
   ]
  },
  {
   "cell_type": "code",
   "execution_count": 37,
   "metadata": {},
   "outputs": [],
   "source": [
    "def porterstemming(text) :\n",
    "  tokens = word_tokenize(text)\n",
    "  sent = []  \n",
    "  for i in range(len(tokens)) :\n",
    "    step = 1\n",
    "\n",
    "    if tokens[i].endswith('sses') and step == 1 and \"VB\" not in nltk.pos_tag(tokens)[i][1] :\n",
    "      tokens[i] = tokens[i][:-2]\n",
    "      step += 1\n",
    "    if tokens[i].endswith('ies') and step == 1 and \"VB\" not in nltk.pos_tag(tokens)[i][1] :\n",
    "      tokens[i] = tokens[i][:-2]\n",
    "      step += 1\n",
    "    if tokens[i].endswith('s') and step == 1 and \"VB\" not in nltk.pos_tag(tokens)[i][1] :\n",
    "      tokens[i] = tokens[i][:-1]\n",
    "      step += 1\n",
    "    if tokens[i].endswith('ing') and step == 1 and \"VB\" in nltk.pos_tag(tokens)[i][1] :\n",
    "      tokens[i] = tokens[i][:-3]\n",
    "      step+=1\n",
    "    if tokens[i].endswith('ed') and step == 1 and \"VB\" in nltk.pos_tag(tokens)[i][1] :\n",
    "      tokens[i] = tokens[i][:-2]\n",
    "      step+=1\n",
    "    if tokens[i].endswith('ational') and step == 2 and \"VB\" not in nltk.pos_tag(tokens)[i][1] :\n",
    "      tokens[i] = tokens[i][:-5]\n",
    "      tokens[i] += 'e'\n",
    "      step += 1\n",
    "    if tokens[i].endswith('izer') and step == 2 and \"VB\" not in nltk.pos_tag(tokens)[i][1] :\n",
    "      tokens[i] = tokens[i][:-1]\n",
    "      step += 1\n",
    "    if tokens[i].endswith('ator') and step == 2 and \"VB\" not in nltk.pos_tag(tokens)[i][1] :\n",
    "      tokens[i] = tokens[i][:-2]\n",
    "      tokens[i] += 'e'\n",
    "      step += 1\n",
    "    if tokens[i].endswith('al') and step == 3 and \"VB\" not in nltk.pos_tag(tokens)[i][1] :\n",
    "      tokens[i] = tokens[i][:-2]\n",
    "      step += 1\n",
    "    if tokens[i].endswith('able') and step == 3 and \"VB\" not in nltk.pos_tag(tokens)[i][1] :\n",
    "      tokens[i] = tokens[i][:-4]\n",
    "      step += 1\n",
    "    if tokens[i].endswith('ate') and step == 3 and \"VB\" not in nltk.pos_tag(tokens)[i][1] :\n",
    "      tokens[i] = tokens[i][:-3]\n",
    "      step += 1\n",
    "    sent.append(tokens[i])\n",
    "  sent = ' '.join(sent)\n",
    "  print(sent)  "
   ]
  },
  {
   "cell_type": "code",
   "execution_count": 38,
   "metadata": {},
   "outputs": [
    {
     "name": "stdout",
     "output_type": "stream",
     "text": [
      "Alice was beginn to get very tired of sitt by her sister on the bank , and of hav nothing to do : once or twice she had peep into the book her sister was read , but it had no picture or conversation in it , ` and what is the use of a book , ' thought Alice ` without picture or conversation ? ' So she was consider in her own mind ( a well a she could , for the hot day made her feel very sleepy and stupid ) , whether the pleasure of mak a daisy-chain would be worth the trouble of gett up and pick the daisi , when suddenly a White Rabbit with pink eye ran close by her . There was nothing so VERY remarkable in that ; nor did Alice think it so VERY much out of the way to hear the Rabbit say to itself , ` Oh dear ! Oh dear ! I shall be late ! ' ( when she thought it over afterward , it occurr to her that she ought to have wonder at thi , but at the time it all seem quite natural ) ; but when the Rabbit actually TOOK A WATCH OUT OF ITS WAISTCOAT- POCKET , and look at it , and then hurri on , Alice start to her feet , for it flash acros her mind that she had never before seen a rabbit with either a waistcoat-pocket , or a watch to take out of it , and burn with curiosity , she ran acros the field after it , and fortunately was just in time to see it pop down a large rabbit-hole under the hedge . In another moment down went Alice after it , never once consider how in the world she was to get out again . The rabbit-hole went straight on like a tunnel for some way , and then dipp suddenly down , so suddenly that Alice had not a moment to think about stopp herself before she found herself fall down a very deep well . Either the well was very deep , or she fell very slowly , for she had plenty of time a she went down to look about her and to wonder what was go to happen next . First , she tri to look down and make out what she was com to , but it was too dark to see anything ; then she look at the side of the well , and notic that they were fill with cupboard and book-shelve ; here and there she saw map and picture hung upon peg . She took down a jar from one of the shelve a she pass ; it was labell ` ORANGE MARMALADE ' , but to her great disappointment it was empty : she did not like to drop the jar for fear of kill somebody , so manag to put it into one of the cupboard a she fell past it . ` Well ! ' thought Alice to herself , ` after such a fall a thi , I shall think nothing of tumbl down stair ! How brave they 'll all think me at home ! Why , I would n't say anything about it , even if I fell off the top of the house ! ' ( Which was very likely true . ) Down , down , down . Would the fall NEVER come to an end ! ` I wonder how many mile I 've fallen by thi time ? ' she said aloud . ` I must be gett somewhere near the centre of the earth . Let me see : that would be four thousand mile down , I think -- ' ( for , you see , Alice had learnt several thing of thi sort in her lesson in the schoolroom , and though thi was not a VERY good opportunity for show off her knowledge , a there was no one to listen to her , still it was good practice to say it over ) ` -- ye , that 's about the right distance -- but then I wonder what Latitude or Longitude I 've got to ? ' ( Alice had no idea what Latitude was , or Longitude either , but thought they were nice grand word to say . ) Presently she began again . ` I wonder if I shall fall right THROUGH the earth ! How funny it 'll seem to come out among the people that walk with their head downward ! The Antipathi , I think -- ' ( she was rather glad there WAS no one listening , thi time , a it did n't sound at all the right word ) ` -- but I shall have to ask them what the name of the country is , you know . Please , Ma'am , is thi New Zealand or Australia ? ' ( and she tri to curtsey a she spoke -- fancy CURTSEYING a you 're fall through the air ! Do you think you could manage it ? ) ` And what an ignorant little girl she 'll think me for ask ! No , it 'll never do to ask : perhap I shall see it written up somewhere . ' Down , down , down . There was nothing else to do , so Alice soon began talk again . ` Dinah 'll miss me very much to-night , I should think ! ' ( Dinah was the cat . ) ` I hope they 'll remember her saucer of milk at tea-time . Dinah my dear ! I wish you were down here with me ! There are no mice in the air , I 'm afraid , but you might catch a bat , and that 's very like a mouse , you know . But do cat eat bat , I wonder ? ' And here Alice began to get rather sleepy , and went on say to herself , in a dreamy sort of way , ` Do cat eat bat ? Do cats eat bat ? ' and sometime , ` Do bat eat cat ? ' for , you see , a she could n't answer either question , it did n't much matter which way she put it . She felt that she was doz off , and had just begun to dream that she was walk hand in hand with Dinah , and say to her very earnestly , ` Now , Dinah , tell me the truth : did you ever eat a bat ? ' when suddenly , thump ! thump ! down she came upon a heap of stick and dry leave , and the fall was over . Alice was not a bit hurt , and she jump up on to her feet in a moment : she look up , but it was all dark overhead ; before her was another long passage , and the White Rabbit was still in sight , hurry down it . There was not a moment to be lost : away went Alice like the wind , and was just in time to hear it say , a it turn a corner , ` Oh my ear and whisker , how late it 's gett ! ' She was close behind it when she turn the corner , but the Rabbit was no longer to be seen : she found herself in a long , low hall , which was lit up by a row of lamp hang from the roof . There were door all round the hall , but they were all lock ; and when Alice had been all the way down one side and up the other , try every door , she walk sadly down the middle , wonder how she was ever to get out again . Suddenly she came upon a little three-legged table , all made of solid glas ; there was nothing on it except a tiny golden key , and Alice ' first thought was that it might belong to one of the door of the hall ; but , ala ! either the lock were too large , or the key was too small , but at any rate it would not open any of them . However , on the second time round , she came upon a low curtain she had not notic before , and behind it was a little door about fifteen inche high : she tri the little golden key in the lock , and to her great delight it fitt ! Alice open the door and found that it l into a small passage , not much larger than a rat-hole : she knelt down and look along the passage into the loveliest garden you ever saw . How she long to get out of that dark hall , and wander about among those bed of bright flower and those cool fountain , but she could not even get her head through the doorway ; ` and even if my head would go through , ' thought poor Alice , ` it would be of very little use without my shoulder . Oh , how I wish I could shut up like a telescope ! I think I could , if I only know how to begin . ' For , you see , so many out-of-the-way thing had happen lately , that Alice had begun to think that very few thing indeed were really impossible . There seem to be no use in wait by the little door , so she went back to the table , half hop she might find another key on it , or at any rate a book of rule for shutt people up like telescope : thi time she found a little bottle on it , ( ` which certainly was not here before , ' said Alice , ) and round the neck of the bottle was a paper label , with the word ` DRINK ME ' beautifully print on it in large letter . It was all very well to say ` Drink me , ' but the wise little Alice was not go to do THAT in a hurry . ` No , I 'll look first , ' she said , ` and see whether it 's mark `` poison `` or not ' ; for she had read several nice little histori about children who had got burnt , and eaten up by wild beast and other unpleasant thing , all because they WOULD not remember the simple rule their friend had taught them : such a , that a red-hot poker will burn you if you hold it too long ; and that if you cut your finger VERY deeply with a knife , it usually bleeds ; and she had never forgotten that , if you drink much from a bottle mark ` poison , ' it is almost certain to disagree with you , sooner or later . However , thi bottle was NOT mark ` poison , ' so Alice ventur to taste it , and find it very nice , ( it had , in fact , a sort of mixed flavour of cherry-tart , custard , pine-apple , roast turkey , toffee , and hot butter toast , ) she very soon finish it off . * * * * * * * * * * * * * * * * * * * * ` What a curiou feeling ! ' said Alice ; ` I must be shutt up like a telescope . ' And so it was indeed : she was now only ten inche high , and her face brighten up at the thought that she was now the right size for go through the little door into that lovely garden . First , however , she wait for a few minute to see if she was go to shrink any further : she felt a little nervou about thi ; ` for it might end , you know , ' said Alice to herself , ` in my go out altogether , like a candle . I wonder what I should be like then ? ' And she tri to fancy what the flame of a candle is like after the candle is blown out , for she could not remember ever hav seen such a thing . After a while , find that nothing more happen , she decid on go into the garden at once ; but , ala for poor Alice ! when she got to the door , she found she had forgotten the little golden key , and when she went back to the table for it , she found she could not possibly reach it : she could see it quite plainly through the glas , and she tri her best to climb up one of the leg of the table , but it was too slippery ; and when she had tir herself out with try , the poor little thing sat down and cried . ` Come , there 's no use in cry like that ! ' said Alice to herself , rather sharply ; ` I advise you to leave off thi minute ! ' She generally gave herself very good advice , ( though she very seldom follow it ) , and sometime she scold herself so severely a to br tear into her eye ; and once she remember try to box her own ear for hav cheat herself in a game of croquet she was play against herself , for thi curiou child was very fond of pretend to be two people . ` But it 's no use now , ' thought poor Alice , ` to pretend to be two people ! Why , there 's hardly enough of me left to make ONE respectable person ! ' Soon her eye fell on a little glas box that was ly under the table : she open it , and found in it a very small cake , on which the word ` EAT ME ' were beautifully mark in currant . ` Well , I 'll eat it , ' said Alice , ` and if it makes me grow larger , I can reach the key ; and if it makes me grow smaller , I can creep under the door ; so either way I 'll get into the garden , and I do n't care which happens ! ' She ate a little bit , and said anxiously to herself , ` Which way ? Which way ? ' , hold her hand on the top of her head to feel which way it was grow , and she was quite surprised to find that she remain the same size : to be sure , thi generally happens when one eat cake , but Alice had got so much into the way of expect nothing but out-of-the-way thing to happen , that it seem quite dull and stupid for life to go on in the common way . So she set to work , and very soon finish off the cake . * * * * * * * * * * * * * * * * * * * *\n"
     ]
    }
   ],
   "source": [
    "porterstemming(ch2)"
   ]
  },
  {
   "cell_type": "code",
   "execution_count": 39,
   "metadata": {},
   "outputs": [
    {
     "name": "stdout",
     "output_type": "stream",
     "text": [
      "Rid on the poni\n"
     ]
    }
   ],
   "source": [
    "s =\"Riding on the ponies\"\n",
    "porterstemming(s)"
   ]
  },
  {
   "cell_type": "code",
   "execution_count": null,
   "metadata": {},
   "outputs": [],
   "source": []
  }
 ],
 "metadata": {
  "kernelspec": {
   "display_name": "Python 3",
   "language": "python",
   "name": "python3"
  },
  "language_info": {
   "codemirror_mode": {
    "name": "ipython",
    "version": 3
   },
   "file_extension": ".py",
   "mimetype": "text/x-python",
   "name": "python",
   "nbconvert_exporter": "python",
   "pygments_lexer": "ipython3",
   "version": "3.8.3"
  }
 },
 "nbformat": 4,
 "nbformat_minor": 4
}
